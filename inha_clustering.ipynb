{
  "cells": [
    {
      "cell_type": "code",
      "execution_count": null,
      "id": "1b03fee1",
      "metadata": {},
      "outputs": [],
      "source": [
        "import BigKindsParser as bkp\n",
        "\n",
        "import numpy as np\n",
        "import pandas as pd\n",
        "import matplotlib.pyplot as plt\n",
        "import seaborn as sns\n",
        "\n",
        "from wordcloud import WordCloud\n",
        "\n",
        "import warnings\n",
        "warnings.filterwarnings(\"ignore\")\n",
        "\n",
        "import konlpy\n",
        "okt = konlpy.tag.Okt()\n",
        "\n",
        "plt.rcParams[\"font.family\"] = \"Malgun Gothic\"\n",
        "plt.rcParams['figure.figsize'] = 8,8\n",
        "sns.set(font=\"Malgun Gothic\", rc={\"axes.unicode_minus\":False}, style='white')"
      ]
    },
    {
      "cell_type": "code",
      "execution_count": null,
      "id": "7c7f94ce",
      "metadata": {},
      "outputs": [],
      "source": [
        "news_df = pd.read_excel(\"./inha_3month.xlsx\", engine = 'openpyxl')"
      ]
    },
    {
      "cell_type": "markdown",
      "id": "35bf4794",
      "metadata": {},
      "source": [
        "## 언론사 확인\n"
      ]
    },
    {
      "cell_type": "code",
      "execution_count": null,
      "id": "f77cf15c",
      "metadata": {},
      "outputs": [],
      "source": [
        "press = bkp.press_counter(news_df)"
      ]
    },
    {
      "cell_type": "code",
      "execution_count": null,
      "id": "13ba3f1d",
      "metadata": {},
      "outputs": [],
      "source": [
        "sns.barplot(data = press, x = \"기사\", y = \"언론사\")"
      ]
    },
    {
      "cell_type": "markdown",
      "id": "4d4b4bb7",
      "metadata": {},
      "source": [
        "### 포토 기사 필터링\n"
      ]
    },
    {
      "cell_type": "code",
      "execution_count": null,
      "id": "5bdcefad",
      "metadata": {},
      "outputs": [],
      "source": [
        "filt = news_df[news_df['제목'].str.contains('포토')].index\n",
        "news_df.drop(filt, inplace=True)\n",
        "news_df.reset_index(drop = True, inplace = True)"
      ]
    },
    {
      "cell_type": "markdown",
      "id": "b174c7d9",
      "metadata": {},
      "source": [
        "## 키워드 빈도\n"
      ]
    },
    {
      "cell_type": "code",
      "execution_count": null,
      "id": "2feb06dc",
      "metadata": {},
      "outputs": [],
      "source": [
        "lis = bkp.keywords_list(news_df[\"키워드\"])"
      ]
    },
    {
      "cell_type": "code",
      "execution_count": null,
      "id": "b51429f1",
      "metadata": {},
      "outputs": [],
      "source": [
        "key = bkp.keyword_parser(lis)"
      ]
    },
    {
      "cell_type": "code",
      "execution_count": null,
      "id": "a136a6b4",
      "metadata": {},
      "outputs": [],
      "source": [
        "key = bkp.duplication_remover(key)"
      ]
    },
    {
      "cell_type": "code",
      "execution_count": null,
      "id": "1cd7620b",
      "metadata": {},
      "outputs": [],
      "source": [
        "key_words = bkp.word_counter(key)\n",
        "key_words = bkp.counter_to_DataFrame(key_words)"
      ]
    },
    {
      "cell_type": "code",
      "execution_count": null,
      "id": "3c0b5416",
      "metadata": {},
      "outputs": [],
      "source": [
        "wc = WordCloud(font_path = './NanumBarunGothic.ttf',\n",
        "    width = 500,\n",
        "    height = 500,\n",
        "    background_color='white').generate_from_frequencies(key_words.set_index('단어').to_dict()[\"빈도\"])\n",
        "\n",
        "\n",
        "plt.figure(figsize = (8, 8))\n",
        "plt.imshow(wc)\n",
        "plt.axis('off')\n",
        "plt.show()"
      ]
    },
    {
      "cell_type": "markdown",
      "id": "9680fbdd",
      "metadata": {},
      "source": [
        "## 언론사 별 단어 빈도 분석\n"
      ]
    },
    {
      "cell_type": "code",
      "execution_count": null,
      "id": "4b47432a",
      "metadata": {},
      "outputs": [],
      "source": [
        "news_df['언론사'].unique()"
      ]
    },
    {
      "cell_type": "code",
      "execution_count": null,
      "id": "7974f421",
      "metadata": {},
      "outputs": [],
      "source": [
        "bkp.press_keywords_wordcloud(news_df, '조선일보')"
      ]
    },
    {
      "cell_type": "code",
      "execution_count": null,
      "id": "ddcf6cd7",
      "metadata": {},
      "outputs": [],
      "source": [
        "bkp.press_keywords_wordcloud(news_df, '중앙일보')"
      ]
    },
    {
      "cell_type": "code",
      "execution_count": null,
      "id": "7742c478",
      "metadata": {},
      "outputs": [],
      "source": [
        "bkp.press_keywords_wordcloud(news_df, '동아일보')"
      ]
    },
    {
      "cell_type": "code",
      "execution_count": null,
      "id": "00640b14",
      "metadata": {},
      "outputs": [],
      "source": [
        "bkp.press_keywords_wordcloud(news_df, '한겨레')"
      ]
    },
    {
      "cell_type": "code",
      "execution_count": null,
      "id": "c1b34ff3",
      "metadata": {},
      "outputs": [],
      "source": [
        "bkp.press_keywords_wordcloud(news_df, '경향신문')"
      ]
    },
    {
      "cell_type": "markdown",
      "id": "652b93c1",
      "metadata": {},
      "source": [
        "## 제목 단어 빈도 분석\n"
      ]
    },
    {
      "cell_type": "code",
      "execution_count": null,
      "id": "b6710242",
      "metadata": {},
      "outputs": [],
      "source": [
        "title = bkp.keywords_list(news_df['제목'])"
      ]
    },
    {
      "cell_type": "code",
      "execution_count": null,
      "id": "c8524f67",
      "metadata": {},
      "outputs": [],
      "source": [
        "words = []\n",
        "for i in range(len(title)):\n",
        "    word = okt.nouns(title[i])\n",
        "    words.append(word)"
      ]
    },
    {
      "cell_type": "code",
      "execution_count": null,
      "id": "3d197ddf",
      "metadata": {},
      "outputs": [],
      "source": [
        "news_titles = bkp.word_counter(words)\n",
        "news_titles = bkp.counter_to_DataFrame(news_titles)"
      ]
    },
    {
      "cell_type": "code",
      "execution_count": null,
      "id": "b5c43896",
      "metadata": {},
      "outputs": [],
      "source": [
        "news_titles= news_titles[news_titles[\"단어\"].str.len() >=2].reset_index(drop = True)"
      ]
    },
    {
      "cell_type": "code",
      "execution_count": null,
      "id": "765db81d",
      "metadata": {},
      "outputs": [],
      "source": [
        "news_titles = news_titles.head(20)"
      ]
    },
    {
      "cell_type": "code",
      "execution_count": null,
      "id": "635d96f1",
      "metadata": {},
      "outputs": [],
      "source": [
        "sns.barplot(data = news_titles, x = '빈도', y = '단어')"
      ]
    },
    {
      "cell_type": "markdown",
      "id": "5f57ae36",
      "metadata": {},
      "source": [
        "## 키워드 분석 with Bigram\n"
      ]
    },
    {
      "cell_type": "code",
      "execution_count": null,
      "id": "9dec4d39",
      "metadata": {},
      "outputs": [],
      "source": [
        "from nltk import bigrams"
      ]
    },
    {
      "cell_type": "code",
      "execution_count": null,
      "id": "06fe8cf4",
      "metadata": {},
      "outputs": [],
      "source": [
        "wor = []\n",
        "\n",
        "for sentence in key:\n",
        "    bigram = bigrams(sentence)\n",
        "    for t in bigram:\n",
        "        if t[0]== '성폭행':\n",
        "            wor.append(t[1])\n",
        "        elif t[1] == '성폭행':\n",
        "            wor.append(t[0])"
      ]
    },
    {
      "cell_type": "code",
      "execution_count": null,
      "id": "b138af72",
      "metadata": {},
      "outputs": [],
      "source": [
        "counter = {}\n",
        "\n",
        "for word in wor:\n",
        "    if not word in counter:\n",
        "        counter[word] = 1\n",
        "    elif word in counter:\n",
        "        counter[word] +=1"
      ]
    },
    {
      "cell_type": "code",
      "execution_count": null,
      "id": "3bdf1f9c",
      "metadata": {},
      "outputs": [],
      "source": [
        "vio_df = bkp.counter_to_DataFrame(counter)\n",
        "vio_df = vio_df[vio_df['단어'].str.len() >= 2].reset_index(drop = True)"
      ]
    },
    {
      "cell_type": "code",
      "execution_count": null,
      "id": "478f4bc4",
      "metadata": {},
      "outputs": [],
      "source": [
        "sns.barplot(data = vio_df, x = '빈도', y = '단어')"
      ]
    },
    {
      "cell_type": "code",
      "execution_count": null,
      "id": "060d3861",
      "metadata": {},
      "outputs": [],
      "source": [
        "wor = []\n",
        "\n",
        "for sentence in key:\n",
        "    bigram = bigrams(sentence)\n",
        "    for t in bigram:\n",
        "        if t[0]== '여대생':\n",
        "            wor.append(t[1])\n",
        "        elif t[1] == '여대생':\n",
        "            wor.append(t[0])"
      ]
    },
    {
      "cell_type": "code",
      "execution_count": null,
      "id": "f17c8ba6",
      "metadata": {},
      "outputs": [],
      "source": [
        "counter = {}\n",
        "\n",
        "for word in wor:\n",
        "    if not word in counter:\n",
        "        counter[word] = 1\n",
        "    elif word in counter:\n",
        "        counter[word] +=1"
      ]
    },
    {
      "cell_type": "code",
      "execution_count": null,
      "id": "90595ffe",
      "metadata": {},
      "outputs": [],
      "source": [
        "vio_df = bkp.counter_to_DataFrame(counter)\n",
        "vio_df = vio_df[vio_df['단어'].str.len() >= 2].reset_index(drop = True)"
      ]
    },
    {
      "cell_type": "code",
      "execution_count": null,
      "id": "25e08925",
      "metadata": {},
      "outputs": [],
      "source": [
        "sns.barplot(data = vio_df, x = '빈도', y = '단어')"
      ]
    },
    {
      "cell_type": "markdown",
      "id": "babbdcac",
      "metadata": {},
      "source": [
        "## 제목 분석 with Bigram\n"
      ]
    },
    {
      "cell_type": "code",
      "execution_count": null,
      "id": "9f63ca5c",
      "metadata": {},
      "outputs": [],
      "source": [
        "title = bkp.keywords_list(news_df['제목'])"
      ]
    },
    {
      "cell_type": "code",
      "execution_count": null,
      "id": "6f88d18c",
      "metadata": {},
      "outputs": [],
      "source": [
        "bot = []\n",
        "for i in range(len(title)):\n",
        "    word = okt.nouns(title[i])\n",
        "    bot.append(word)"
      ]
    },
    {
      "cell_type": "code",
      "execution_count": null,
      "id": "2203353d",
      "metadata": {},
      "outputs": [],
      "source": [
        "wors = []\n",
        "\n",
        "for sentence in bot:\n",
        "    bigram = bigrams(sentence)\n",
        "    for t in bigram:\n",
        "        if t[0]== '인하대':\n",
        "            wors.append(t[1])\n",
        "        elif t[1] == '인하대':\n",
        "            wors.append(t[0])"
      ]
    },
    {
      "cell_type": "code",
      "execution_count": null,
      "id": "eec8a196",
      "metadata": {},
      "outputs": [],
      "source": [
        "counter = {}\n",
        "\n",
        "for word in wors:\n",
        "    if not word in counter:\n",
        "        counter[word] = 1\n",
        "    if word in counter:\n",
        "        counter[word] +=1\n",
        "        \n",
        "title_df = bkp.counter_to_DataFrame(counter)\n",
        "title_df = title_df[title_df['단어'].str.len() >= 2].reset_index(drop = True)"
      ]
    },
    {
      "cell_type": "code",
      "execution_count": null,
      "id": "f1d9250a",
      "metadata": {},
      "outputs": [],
      "source": [
        "title_df = title_df.head(30)\n",
        "sns.barplot(data = title_df, x = '빈도', y = '단어')"
      ]
    },
    {
      "cell_type": "markdown",
      "id": "f04e57e8",
      "metadata": {},
      "source": [
        "## 특정 단어 사용 고빈도 언론사 추출\n"
      ]
    },
    {
      "cell_type": "code",
      "execution_count": null,
      "id": "94678c53",
      "metadata": {},
      "outputs": [],
      "source": [
        "news_df[news_df['제목'].str.contains('여대생')].groupby('언론사').size()"
      ]
    },
    {
      "cell_type": "code",
      "execution_count": null,
      "id": "8ad08974",
      "metadata": {},
      "outputs": [],
      "source": [
        "news_df[news_df['본문'].str.contains('여대생')].groupby('언론사').size()"
      ]
    },
    {
      "cell_type": "code",
      "execution_count": null,
      "id": "d3d8a574",
      "metadata": {},
      "outputs": [],
      "source": [
        "news_df[news_df['제목'].str.contains('강간')].groupby('언론사').size()"
      ]
    },
    {
      "cell_type": "markdown",
      "id": "991e8050",
      "metadata": {},
      "source": [
        "## t-SNE\n"
      ]
    },
    {
      "cell_type": "code",
      "execution_count": null,
      "id": "3b213f32",
      "metadata": {},
      "outputs": [],
      "source": [
        "text = news_df['키워드']"
      ]
    },
    {
      "cell_type": "code",
      "execution_count": null,
      "id": "bf4787e2",
      "metadata": {},
      "outputs": [],
      "source": [
        "from sklearn.feature_extraction.text import CountVectorizer, TfidfTransformer\n",
        "from sklearn.pipeline import Pipeline\n",
        "\n",
        "pipeline = Pipeline([\n",
        "    ('vect', CountVectorizer()),\n",
        "    ('tfidf', TfidfTransformer()),\n",
        "])        \n",
        "vec = pipeline.fit_transform(text).toarray()"
      ]
    },
    {
      "cell_type": "code",
      "execution_count": null,
      "id": "2ff98baf",
      "metadata": {},
      "outputs": [],
      "source": [
        "from sklearn.preprocessing import Normalizer\n",
        "\n",
        "nor = Normalizer()\n",
        "norvec = nor.fit_transform(vec)"
      ]
    },
    {
      "cell_type": "code",
      "execution_count": null,
      "id": "027e697c",
      "metadata": {},
      "outputs": [],
      "source": [
        "from sklearn.manifold import TSNE\n",
        "\n",
        "tsne = TSNE(n_components=2, learning_rate=400).fit_transform(norvec)\n",
        "\n",
        "tsne_df = pd.DataFrame(tsne, columns = ['component 0', 'component 1'])"
      ]
    },
    {
      "cell_type": "code",
      "execution_count": null,
      "id": "640bc770",
      "metadata": {},
      "outputs": [],
      "source": [
        "plt.scatter(tsne_df['component 0'], tsne_df['component 1'], color = 'orange')\n",
        "\n",
        "plt.xlabel('component 0')\n",
        "plt.ylabel('component 1')\n",
        "plt.legend()\n",
        "plt.show()"
      ]
    },
    {
      "cell_type": "markdown",
      "id": "4a729115",
      "metadata": {},
      "source": [
        "문서 간 밀접 여부 파악이 어려움\n",
        "\n",
        "Clustering의 정확도가 낮을 것으로 예상\n",
        "\n",
        "# Topic Modeling\n"
      ]
    },
    {
      "cell_type": "code",
      "execution_count": null,
      "id": "55f6fb88",
      "metadata": {},
      "outputs": [],
      "source": [
        "news_words = bkp.keyword_parser(news_df['키워드'])"
      ]
    },
    {
      "cell_type": "code",
      "execution_count": null,
      "id": "a35c0b5f",
      "metadata": {},
      "outputs": [],
      "source": [
        "import gensim\n",
        "news_dict = gensim.corpora.Dictionary(news_words)\n",
        "corpus = [news_dict.doc2bow(text) for text in news_words]"
      ]
    },
    {
      "cell_type": "code",
      "execution_count": null,
      "id": "48d98445",
      "metadata": {},
      "outputs": [],
      "source": [
        "coherence = []\n",
        "for i in range(2,20):\n",
        "    ldamodel = gensim.models.ldamodel.LdaModel(corpus, num_topics = i, id2word=news_dict, passes=20, iterations=100)\n",
        "    coherence_mo_lda = gensim.models.CoherenceModel(model = ldamodel, texts = news_words, dictionary = news_dict) \n",
        "    coherence_lda = coherence_mo_lda.get_coherence()\n",
        "    coherence.append(coherence_lda)"
      ]
    },
    {
      "cell_type": "code",
      "execution_count": null,
      "id": "29f78a71",
      "metadata": {},
      "outputs": [],
      "source": [
        "x = range(2,20)\n",
        "plt.plot(x,coherence)\n",
        "plt.xlabel(\"토픽 개수\")\n",
        "plt.ylabel(\"coherence\")\n",
        "plt.show()"
      ]
    },
    {
      "cell_type": "markdown",
      "id": "ebc19685",
      "metadata": {},
      "source": [
        "최적 Topic 갯수는 2개로 나타남\n",
        "\n",
        "그러나 분석을 위해 2번째로 높은 값인 4개를 하이퍼파라미터로 지정\n"
      ]
    },
    {
      "cell_type": "code",
      "execution_count": null,
      "id": "333e495f",
      "metadata": {},
      "outputs": [],
      "source": [
        "NUM_TOPICS = 4\n",
        "ldamodel = gensim.models.ldamodel.LdaModel(corpus, num_topics = NUM_TOPICS, id2word=news_dict, passes=20, iterations=100, random_state=10)\n",
        "topics = ldamodel.print_topics(num_words=8)\n",
        "for topic in topics:\n",
        "    print(topic)"
      ]
    },
    {
      "cell_type": "code",
      "execution_count": null,
      "id": "087fa525",
      "metadata": {},
      "outputs": [],
      "source": [
        "def make_topictable(ldamodel, corpus):\n",
        "    topic_table = pd.DataFrame()\n",
        "\n",
        "    for i, topic_list in enumerate(ldamodel[corpus]):\n",
        "        doc = topic_list[0] if ldamodel.per_word_topics else topic_list            \n",
        "        doc = sorted(doc, key=lambda x: (x[1]), reverse=True)\n",
        "\n",
        "        for j, (topic_num, prop_topic) in enumerate(doc):\n",
        "            if j == 0: \n",
        "                topic_table = topic_table.append(pd.Series([int(topic_num), round(prop_topic,4), topic_list]), ignore_index=True)\n",
        "            else:\n",
        "                break\n",
        "    return(topic_table)"
      ]
    },
    {
      "cell_type": "code",
      "execution_count": null,
      "id": "a187aeb3",
      "metadata": {},
      "outputs": [],
      "source": [
        "topictable = make_topictable(ldamodel, corpus)\n",
        "topictable = topictable.reset_index() "
      ]
    },
    {
      "cell_type": "code",
      "execution_count": null,
      "id": "181d737b",
      "metadata": {},
      "outputs": [],
      "source": [
        "topictable.columns = ['뉴스 번호', '주요 토픽', '주요 토픽 비중', '토픽 별 비중']\n",
        "topictable.head(20)"
      ]
    },
    {
      "cell_type": "code",
      "execution_count": null,
      "id": "de388ec0",
      "metadata": {},
      "outputs": [],
      "source": [
        "inha_topic_df = pd.concat([news_df[['제목', '언론사', '키워드']], topictable['주요 토픽']], axis = 1)"
      ]
    },
    {
      "cell_type": "code",
      "execution_count": null,
      "id": "64cb9f9e",
      "metadata": {},
      "outputs": [],
      "source": [
        "inha_topic_df.groupby('주요 토픽').size()"
      ]
    },
    {
      "cell_type": "code",
      "execution_count": null,
      "id": "58055707",
      "metadata": {},
      "outputs": [],
      "source": [
        "inha_topic_df[inha_topic_df['주요 토픽'] == 0].head(30) #관련 없는 기사 다수"
      ]
    },
    {
      "cell_type": "code",
      "execution_count": null,
      "id": "ff7d8c38",
      "metadata": {},
      "outputs": [],
      "source": [
        "inha_topic_df[inha_topic_df['주요 토픽'] == 1].head(30) #또한 관련 없는 기사"
      ]
    },
    {
      "cell_type": "code",
      "execution_count": null,
      "id": "ddccc8d7",
      "metadata": {},
      "outputs": [],
      "source": [
        "inha_topic_df[inha_topic_df['주요 토픽'] == 2].head(30) #인하대학교 사건 기사가 다수"
      ]
    },
    {
      "cell_type": "code",
      "execution_count": null,
      "id": "a709f3ca",
      "metadata": {},
      "outputs": [],
      "source": [
        "inha_topic_df[inha_topic_df['주요 토픽'] == 3].head(30) #또한 관련도가 매우 낮은 기사"
      ]
    },
    {
      "cell_type": "markdown",
      "id": "31312239",
      "metadata": {},
      "source": [
        "LDA의 주제 분류가 다소 깔끔하지 않음을 보임\n",
        "\n",
        "다른 모델을 사용해볼 필요가 있음\n",
        "\n",
        "# K-means Clustering\n"
      ]
    },
    {
      "cell_type": "code",
      "execution_count": null,
      "id": "17410c7d",
      "metadata": {},
      "outputs": [],
      "source": [
        "from sklearn.cluster import KMeans\n",
        "from yellowbrick.cluster import KElbowVisualizer\n",
        "\n",
        "vzr = KElbowVisualizer(KMeans(max_iter=1000, random_state=10), k=(2, 20))\n",
        "vzr.fit(norvec)\n",
        "vzr.poof()"
      ]
    },
    {
      "cell_type": "code",
      "execution_count": null,
      "id": "fa6391d3",
      "metadata": {},
      "outputs": [],
      "source": [
        "from yellowbrick.cluster import SilhouetteVisualizer\n",
        "\n",
        "kmeans= KMeans(n_clusters=12, max_iter=1000, random_state=10) #최적 Topic 개수 12개를 기점으로 진행\n",
        "visualizer = SilhouetteVisualizer(kmeans, colors='yellowbrick')"
      ]
    },
    {
      "cell_type": "code",
      "execution_count": null,
      "id": "14373f9f",
      "metadata": {},
      "outputs": [],
      "source": [
        "visualizer.fit(norvec)\n",
        "visualizer.show()"
      ]
    },
    {
      "cell_type": "code",
      "execution_count": null,
      "id": "df35a660",
      "metadata": {},
      "outputs": [],
      "source": [
        "topic_df = news_df[['언론사', '제목', '키워드']]"
      ]
    },
    {
      "cell_type": "code",
      "execution_count": null,
      "id": "4ab9894e",
      "metadata": {},
      "outputs": [],
      "source": [
        "kmeans.fit(norvec)\n",
        "\n",
        "labels = kmeans.labels_\n",
        "\n",
        "topic_df['군집'] = labels"
      ]
    },
    {
      "cell_type": "code",
      "execution_count": null,
      "id": "8ef25fa7",
      "metadata": {},
      "outputs": [],
      "source": [
        "topic_df.groupby('군집').size()"
      ]
    },
    {
      "cell_type": "code",
      "execution_count": null,
      "id": "be61070f",
      "metadata": {},
      "outputs": [],
      "source": [
        "topic_df.loc[topic_df['군집']==0, '군집'] = '경제'\n",
        "topic_df.loc[topic_df['군집']==1, '군집'] = '리멤버 0715'\n",
        "topic_df.loc[topic_df['군집']==2, '군집'] = '인하대 사건 그 이후'\n",
        "topic_df.loc[topic_df['군집']==3, '군집'] = '인하대 입시'\n",
        "topic_df.loc[topic_df['군집']==4, '군집'] = '인하대 사건 조사보도'\n",
        "topic_df.loc[topic_df['군집']==5, '군집'] = '가해자 재판'\n",
        "topic_df.loc[topic_df['군집']==6, '군집'] = '젠더 이슈'\n",
        "topic_df.loc[topic_df['군집']==7, '군집'] = '가해자 체포'\n",
        "topic_df.loc[topic_df['군집']==8, '군집'] = '관련 없는 기사'\n",
        "topic_df.loc[topic_df['군집']==9, '군집'] = '학교 측 가해자 징계'\n",
        "topic_df.loc[topic_df['군집']==10, '군집'] = '인하대 총장'\n",
        "topic_df.loc[topic_df['군집']==11, '군집'] = '부고'"
      ]
    },
    {
      "cell_type": "markdown",
      "id": "b40bc93f",
      "metadata": {},
      "source": [
        "분석 결과, K-Means가 가장 Performance가 가장 좋았음\n"
      ]
    },
    {
      "cell_type": "code",
      "execution_count": null,
      "id": "e037d226",
      "metadata": {},
      "outputs": [],
      "source": [
        "filter_list = ['경제', '인하대 입시', '관련 없는 기사', '인하대 총장', '부고']\n",
        "inha_df = topic_df[~topic_df['군집'].isin(filter_list)]\n",
        "inha_df.reset_index(drop = True, inplace = True)"
      ]
    },
    {
      "cell_type": "code",
      "execution_count": null,
      "id": "2336976a",
      "metadata": {},
      "outputs": [],
      "source": [
        "inha_df.to_excel('./inha_topic.xlsx', index=False)"
      ]
    },
    {
      "cell_type": "markdown",
      "id": "b52bb656",
      "metadata": {},
      "source": [
        "나머지 내용은 R을 이용하여 분석 진행\n",
        "\n",
        "분석 결과를 Quarto 기반 보고서로 제작 예정\n"
      ]
    }
  ],
  "metadata": {
    "kernelspec": {
      "display_name": "Python 3",
      "language": "python",
      "name": "python3"
    },
    "language_info": {
      "name": "python",
      "version": "3.8.12"
    }
  },
  "nbformat": 4,
  "nbformat_minor": 5
}
