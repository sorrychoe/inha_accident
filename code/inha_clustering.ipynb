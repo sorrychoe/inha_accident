{
 "cells": [
  {
   "cell_type": "code",
   "execution_count": null,
   "id": "1b03fee1",
   "metadata": {
    "canvas": {
     "comments": [],
     "componentType": "CodeCell",
     "copiedOriginId": null,
     "diskcache": false,
     "headerColor": "transparent",
     "id": "cf124c09-b05e-47c6-b66b-f8c94dfb0249",
     "isComponent": false,
     "name": "",
     "parents": []
    },
    "tags": []
   },
   "outputs": [],
   "source": [
    "import BigKindsParser as bkp\n",
    "\n",
    "import numpy as np\n",
    "import pandas as pd\n",
    "import matplotlib.pyplot as plt\n",
    "import seaborn as sns\n",
    "\n",
    "from wordcloud import WordCloud\n",
    "\n",
    "import warnings\n",
    "warnings.filterwarnings(\"ignore\")\n",
    "\n",
    "import konlpy\n",
    "okt = konlpy.tag.Okt()\n",
    "\n",
    "plt.rcParams[\"font.family\"] = \"Malgun Gothic\"\n",
    "plt.rcParams['figure.figsize'] = 8,8\n",
    "sns.set(font=\"Malgun Gothic\", rc={\"axes.unicode_minus\":False}, style='white')"
   ]
  },
  {
   "cell_type": "code",
   "execution_count": null,
   "id": "7c7f94ce",
   "metadata": {
    "canvas": {
     "comments": [],
     "componentType": "CodeCell",
     "copiedOriginId": null,
     "diskcache": false,
     "headerColor": "transparent",
     "id": "80d5d3f7-325a-40ac-8197-b87efe0a756e",
     "isComponent": false,
     "name": "",
     "parents": []
    }
   },
   "outputs": [],
   "source": [
    "news_df = pd.read_excel(\"./inha_3month.xlsx\", engine = 'openpyxl')"
   ]
  },
  {
   "cell_type": "markdown",
   "id": "35bf4794",
   "metadata": {
    "canvas": {
     "comments": [],
     "componentType": "CodeCell",
     "copiedOriginId": null,
     "diskcache": false,
     "headerColor": "transparent",
     "id": "23844215-ca93-46ea-9909-e87d1af65518",
     "isComponent": false,
     "name": "",
     "parents": []
    }
   },
   "source": [
    "## 언론사 확인\n"
   ]
  },
  {
   "cell_type": "code",
   "execution_count": null,
   "id": "f77cf15c",
   "metadata": {
    "canvas": {
     "comments": [],
     "componentType": "CodeCell",
     "copiedOriginId": null,
     "diskcache": false,
     "headerColor": "transparent",
     "id": "2e91a41e-b211-4f11-af1f-01b61bd9883e",
     "isComponent": false,
     "name": "",
     "parents": []
    }
   },
   "outputs": [],
   "source": [
    "press = bkp.press_counter(news_df)"
   ]
  },
  {
   "cell_type": "code",
   "execution_count": null,
   "id": "13ba3f1d",
   "metadata": {
    "canvas": {
     "comments": [],
     "componentType": "CodeCell",
     "copiedOriginId": null,
     "diskcache": false,
     "headerColor": "transparent",
     "id": "842be395-56e9-48c9-b2c2-174090f5b3a7",
     "isComponent": false,
     "name": "",
     "parents": []
    }
   },
   "outputs": [],
   "source": [
    "sns.barplot(data = press, x = \"기사\", y = \"언론사\")"
   ]
  },
  {
   "cell_type": "markdown",
   "id": "4d4b4bb7",
   "metadata": {
    "canvas": {
     "comments": [],
     "componentType": "CodeCell",
     "copiedOriginId": null,
     "diskcache": false,
     "headerColor": "transparent",
     "id": "1a48ac37-5aa9-423f-ae9d-d8866ddfe0d5",
     "isComponent": false,
     "name": "",
     "parents": []
    }
   },
   "source": [
    "### 포토 기사 필터링\n"
   ]
  },
  {
   "cell_type": "code",
   "execution_count": null,
   "id": "5bdcefad",
   "metadata": {
    "canvas": {
     "comments": [],
     "componentType": "CodeCell",
     "copiedOriginId": null,
     "diskcache": false,
     "headerColor": "transparent",
     "id": "0a414e98-1f60-4b5a-8832-9c734eb9f702",
     "isComponent": false,
     "name": "",
     "parents": []
    }
   },
   "outputs": [],
   "source": [
    "filt = news_df[news_df['제목'].str.contains('포토')].index\n",
    "news_df.drop(filt, inplace=True)\n",
    "news_df.reset_index(drop = True, inplace = True)"
   ]
  },
  {
   "cell_type": "markdown",
   "id": "b174c7d9",
   "metadata": {
    "canvas": {
     "comments": [],
     "componentType": "CodeCell",
     "copiedOriginId": null,
     "diskcache": false,
     "headerColor": "transparent",
     "id": "b38de4dd-a825-410c-bf51-ca40ac86fbe7",
     "isComponent": false,
     "name": "",
     "parents": []
    }
   },
   "source": [
    "## 키워드 빈도\n"
   ]
  },
  {
   "cell_type": "code",
   "execution_count": null,
   "id": "2feb06dc",
   "metadata": {
    "canvas": {
     "comments": [],
     "componentType": "CodeCell",
     "copiedOriginId": null,
     "diskcache": false,
     "headerColor": "transparent",
     "id": "d3ad7b62-4b02-4080-a4c7-4298ada83644",
     "isComponent": false,
     "name": "",
     "parents": []
    }
   },
   "outputs": [],
   "source": [
    "lis = bkp.keywords_list(news_df[\"키워드\"])"
   ]
  },
  {
   "cell_type": "code",
   "execution_count": null,
   "id": "b51429f1",
   "metadata": {
    "canvas": {
     "comments": [],
     "componentType": "CodeCell",
     "copiedOriginId": null,
     "diskcache": false,
     "headerColor": "transparent",
     "id": "fc2a8b6f-50ae-493e-8781-352bb6b526ef",
     "isComponent": false,
     "name": "",
     "parents": []
    }
   },
   "outputs": [],
   "source": [
    "key = bkp.keyword_parser(lis)"
   ]
  },
  {
   "cell_type": "code",
   "execution_count": null,
   "id": "a136a6b4",
   "metadata": {
    "canvas": {
     "comments": [],
     "componentType": "CodeCell",
     "copiedOriginId": null,
     "diskcache": false,
     "headerColor": "transparent",
     "id": "0720f521-2357-4b2c-8308-0dc0126d2dba",
     "isComponent": false,
     "name": "",
     "parents": []
    }
   },
   "outputs": [],
   "source": [
    "key = bkp.duplication_remover(key)"
   ]
  },
  {
   "cell_type": "code",
   "execution_count": null,
   "id": "1cd7620b",
   "metadata": {
    "canvas": {
     "comments": [],
     "componentType": "CodeCell",
     "copiedOriginId": null,
     "diskcache": false,
     "headerColor": "transparent",
     "id": "53dd7d66-3e9f-4a1f-bd65-b6ea2f9cb62d",
     "isComponent": false,
     "name": "",
     "parents": []
    }
   },
   "outputs": [],
   "source": [
    "key_words = bkp.word_counter(key)\n",
    "key_words = bkp.counter_to_DataFrame(key_words)"
   ]
  },
  {
   "cell_type": "code",
   "execution_count": null,
   "id": "3c0b5416",
   "metadata": {
    "canvas": {
     "comments": [],
     "componentType": "CodeCell",
     "copiedOriginId": null,
     "diskcache": false,
     "headerColor": "transparent",
     "id": "5e9220d7-3bc3-43bf-b082-05179864942b",
     "isComponent": false,
     "name": "",
     "parents": []
    }
   },
   "outputs": [],
   "source": [
    "wc = WordCloud(font_path = './NanumBarunGothic.ttf',\n",
    "    width = 500,\n",
    "    height = 500,\n",
    "    background_color='white').generate_from_frequencies(key_words.set_index('단어').to_dict()[\"빈도\"])\n",
    "\n",
    "\n",
    "plt.figure(figsize = (8, 8))\n",
    "plt.imshow(wc)\n",
    "plt.axis('off')\n",
    "plt.show()"
   ]
  },
  {
   "cell_type": "markdown",
   "id": "9680fbdd",
   "metadata": {
    "canvas": {
     "comments": [],
     "componentType": "CodeCell",
     "copiedOriginId": null,
     "diskcache": false,
     "headerColor": "transparent",
     "id": "967af9f3-755e-4724-b15e-34335721db67",
     "isComponent": false,
     "name": "",
     "parents": []
    }
   },
   "source": [
    "## 언론사 별 단어 빈도 분석\n"
   ]
  },
  {
   "cell_type": "code",
   "execution_count": null,
   "id": "4b47432a",
   "metadata": {
    "canvas": {
     "comments": [],
     "componentType": "CodeCell",
     "copiedOriginId": null,
     "diskcache": false,
     "headerColor": "transparent",
     "id": "26898aab-2362-40df-83e3-672eb74ae15f",
     "isComponent": false,
     "name": "",
     "parents": []
    }
   },
   "outputs": [],
   "source": [
    "news_df['언론사'].unique()"
   ]
  },
  {
   "cell_type": "code",
   "execution_count": null,
   "id": "7974f421",
   "metadata": {
    "canvas": {
     "comments": [],
     "componentType": "CodeCell",
     "copiedOriginId": null,
     "diskcache": false,
     "headerColor": "transparent",
     "id": "a3916235-9578-41be-ae4e-71bd4d48d156",
     "isComponent": false,
     "name": "",
     "parents": []
    }
   },
   "outputs": [],
   "source": [
    "bkp.press_keywords_wordcloud(news_df, '조선일보')"
   ]
  },
  {
   "cell_type": "code",
   "execution_count": null,
   "id": "ddcf6cd7",
   "metadata": {
    "canvas": {
     "comments": [],
     "componentType": "CodeCell",
     "copiedOriginId": null,
     "diskcache": false,
     "headerColor": "transparent",
     "id": "59dc416c-3ad8-4cc2-9c62-3b5fa35c4f57",
     "isComponent": false,
     "name": "",
     "parents": []
    }
   },
   "outputs": [],
   "source": [
    "bkp.press_keywords_wordcloud(news_df, '중앙일보')"
   ]
  },
  {
   "cell_type": "code",
   "execution_count": null,
   "id": "7742c478",
   "metadata": {
    "canvas": {
     "comments": [],
     "componentType": "CodeCell",
     "copiedOriginId": null,
     "diskcache": false,
     "headerColor": "transparent",
     "id": "c743a1b1-df26-495c-8a17-e8c921e31281",
     "isComponent": false,
     "name": "",
     "parents": []
    }
   },
   "outputs": [],
   "source": [
    "bkp.press_keywords_wordcloud(news_df, '동아일보')"
   ]
  },
  {
   "cell_type": "code",
   "execution_count": null,
   "id": "00640b14",
   "metadata": {
    "canvas": {
     "comments": [],
     "componentType": "CodeCell",
     "copiedOriginId": null,
     "diskcache": false,
     "headerColor": "transparent",
     "id": "15b36108-b71e-490b-b9db-23af133b4055",
     "isComponent": false,
     "name": "",
     "parents": []
    }
   },
   "outputs": [],
   "source": [
    "bkp.press_keywords_wordcloud(news_df, '한겨레')"
   ]
  },
  {
   "cell_type": "code",
   "execution_count": null,
   "id": "c1b34ff3",
   "metadata": {
    "canvas": {
     "comments": [],
     "componentType": "CodeCell",
     "copiedOriginId": null,
     "diskcache": false,
     "headerColor": "transparent",
     "id": "8e2111ad-fea9-4ecc-b396-5cde8e02940c",
     "isComponent": false,
     "name": "",
     "parents": []
    }
   },
   "outputs": [],
   "source": [
    "bkp.press_keywords_wordcloud(news_df, '경향신문')"
   ]
  },
  {
   "cell_type": "markdown",
   "id": "652b93c1",
   "metadata": {
    "canvas": {
     "comments": [],
     "componentType": "CodeCell",
     "copiedOriginId": null,
     "diskcache": false,
     "headerColor": "transparent",
     "id": "05d0d56b-0dfb-46c2-82a8-b342b0b8a4d7",
     "isComponent": false,
     "name": "",
     "parents": []
    }
   },
   "source": [
    "## 제목 단어 빈도 분석\n"
   ]
  },
  {
   "cell_type": "code",
   "execution_count": null,
   "id": "b6710242",
   "metadata": {
    "canvas": {
     "comments": [],
     "componentType": "CodeCell",
     "copiedOriginId": null,
     "diskcache": false,
     "headerColor": "transparent",
     "id": "2e5582e0-14f0-4e7f-b092-78e3267418d7",
     "isComponent": false,
     "name": "",
     "parents": []
    }
   },
   "outputs": [],
   "source": [
    "title = bkp.keywords_list(news_df['제목'])"
   ]
  },
  {
   "cell_type": "code",
   "execution_count": null,
   "id": "c8524f67",
   "metadata": {
    "canvas": {
     "comments": [],
     "componentType": "CodeCell",
     "copiedOriginId": null,
     "diskcache": false,
     "headerColor": "transparent",
     "id": "16a75f1e-3883-480c-bf6c-f5bd2f2a6815",
     "isComponent": false,
     "name": "",
     "parents": []
    }
   },
   "outputs": [],
   "source": [
    "words = []\n",
    "for i in range(len(title)):\n",
    "    word = okt.nouns(title[i])\n",
    "    words.append(word)"
   ]
  },
  {
   "cell_type": "code",
   "execution_count": null,
   "id": "3d197ddf",
   "metadata": {
    "canvas": {
     "comments": [],
     "componentType": "CodeCell",
     "copiedOriginId": null,
     "diskcache": false,
     "headerColor": "transparent",
     "id": "9968805f-3e04-48e6-9c56-d6693dbdbd03",
     "isComponent": false,
     "name": "",
     "parents": []
    }
   },
   "outputs": [],
   "source": [
    "news_titles = bkp.word_counter(words)\n",
    "news_titles = bkp.counter_to_DataFrame(news_titles)"
   ]
  },
  {
   "cell_type": "code",
   "execution_count": null,
   "id": "b5c43896",
   "metadata": {
    "canvas": {
     "comments": [],
     "componentType": "CodeCell",
     "copiedOriginId": null,
     "diskcache": false,
     "headerColor": "transparent",
     "id": "e5fcf020-fab3-4ad1-af3e-64a1d1e60283",
     "isComponent": false,
     "name": "",
     "parents": []
    }
   },
   "outputs": [],
   "source": [
    "news_titles= news_titles[news_titles[\"단어\"].str.len() >=2].reset_index(drop = True)"
   ]
  },
  {
   "cell_type": "code",
   "execution_count": null,
   "id": "765db81d",
   "metadata": {
    "canvas": {
     "comments": [],
     "componentType": "CodeCell",
     "copiedOriginId": null,
     "diskcache": false,
     "headerColor": "transparent",
     "id": "4a9817cf-4955-42e1-a3d4-b579dfa5c60c",
     "isComponent": false,
     "name": "",
     "parents": []
    }
   },
   "outputs": [],
   "source": [
    "news_titles = news_titles.head(20)"
   ]
  },
  {
   "cell_type": "code",
   "execution_count": null,
   "id": "635d96f1",
   "metadata": {
    "canvas": {
     "comments": [],
     "componentType": "CodeCell",
     "copiedOriginId": null,
     "diskcache": false,
     "headerColor": "transparent",
     "id": "3cccd809-019c-47bb-9961-af977aeb0ae1",
     "isComponent": false,
     "name": "",
     "parents": []
    }
   },
   "outputs": [],
   "source": [
    "sns.barplot(data = news_titles, x = '빈도', y = '단어')"
   ]
  },
  {
   "cell_type": "markdown",
   "id": "5f57ae36",
   "metadata": {
    "canvas": {
     "comments": [],
     "componentType": "CodeCell",
     "copiedOriginId": null,
     "diskcache": false,
     "headerColor": "transparent",
     "id": "738ff282-11d4-4772-9eac-94fe52d567a4",
     "isComponent": false,
     "name": "",
     "parents": []
    }
   },
   "source": [
    "## 키워드 분석 with Bigram\n"
   ]
  },
  {
   "cell_type": "code",
   "execution_count": null,
   "id": "9dec4d39",
   "metadata": {
    "canvas": {
     "comments": [],
     "componentType": "CodeCell",
     "copiedOriginId": null,
     "diskcache": false,
     "headerColor": "transparent",
     "id": "a53c0598-5bf9-484c-8f9f-cf951860b64e",
     "isComponent": false,
     "name": "",
     "parents": []
    }
   },
   "outputs": [],
   "source": [
    "from nltk import bigrams"
   ]
  },
  {
   "cell_type": "code",
   "execution_count": null,
   "id": "06fe8cf4",
   "metadata": {
    "canvas": {
     "comments": [],
     "componentType": "CodeCell",
     "copiedOriginId": null,
     "diskcache": false,
     "headerColor": "transparent",
     "id": "d7f7f757-5285-4237-96cc-24d80b5fdb3f",
     "isComponent": false,
     "name": "",
     "parents": []
    }
   },
   "outputs": [],
   "source": [
    "wor = []\n",
    "\n",
    "for sentence in key:\n",
    "    bigram = bigrams(sentence)\n",
    "    for t in bigram:\n",
    "        if t[0]== '성폭행':\n",
    "            wor.append(t[1])\n",
    "        elif t[1] == '성폭행':\n",
    "            wor.append(t[0])"
   ]
  },
  {
   "cell_type": "code",
   "execution_count": null,
   "id": "b138af72",
   "metadata": {
    "canvas": {
     "comments": [],
     "componentType": "CodeCell",
     "copiedOriginId": null,
     "diskcache": false,
     "headerColor": "transparent",
     "id": "9f1cb3f2-c408-4c66-9859-9e50bb20db41",
     "isComponent": false,
     "name": "",
     "parents": []
    }
   },
   "outputs": [],
   "source": [
    "counter = {}\n",
    "\n",
    "for word in wor:\n",
    "    if not word in counter:\n",
    "        counter[word] = 1\n",
    "    elif word in counter:\n",
    "        counter[word] +=1"
   ]
  },
  {
   "cell_type": "code",
   "execution_count": null,
   "id": "3bdf1f9c",
   "metadata": {
    "canvas": {
     "comments": [],
     "componentType": "CodeCell",
     "copiedOriginId": null,
     "diskcache": false,
     "headerColor": "transparent",
     "id": "93b5679b-d210-4d95-926d-897fca979ad4",
     "isComponent": false,
     "name": "",
     "parents": []
    }
   },
   "outputs": [],
   "source": [
    "vio_df = bkp.counter_to_DataFrame(counter)\n",
    "vio_df = vio_df[vio_df['단어'].str.len() >= 2].reset_index(drop = True)"
   ]
  },
  {
   "cell_type": "code",
   "execution_count": null,
   "id": "478f4bc4",
   "metadata": {
    "canvas": {
     "comments": [],
     "componentType": "CodeCell",
     "copiedOriginId": null,
     "diskcache": false,
     "headerColor": "transparent",
     "id": "c767f66f-097e-4acd-b006-ae72bc5ec4bc",
     "isComponent": false,
     "name": "",
     "parents": []
    }
   },
   "outputs": [],
   "source": [
    "sns.barplot(data = vio_df, x = '빈도', y = '단어')"
   ]
  },
  {
   "cell_type": "code",
   "execution_count": null,
   "id": "060d3861",
   "metadata": {
    "canvas": {
     "comments": [],
     "componentType": "CodeCell",
     "copiedOriginId": null,
     "diskcache": false,
     "headerColor": "transparent",
     "id": "471acf49-2b36-4157-9591-d83292abfc21",
     "isComponent": false,
     "name": "",
     "parents": []
    }
   },
   "outputs": [],
   "source": [
    "wor = []\n",
    "\n",
    "for sentence in key:\n",
    "    bigram = bigrams(sentence)\n",
    "    for t in bigram:\n",
    "        if t[0]== '여대생':\n",
    "            wor.append(t[1])\n",
    "        elif t[1] == '여대생':\n",
    "            wor.append(t[0])"
   ]
  },
  {
   "cell_type": "code",
   "execution_count": null,
   "id": "f17c8ba6",
   "metadata": {
    "canvas": {
     "comments": [],
     "componentType": "CodeCell",
     "copiedOriginId": null,
     "diskcache": false,
     "headerColor": "transparent",
     "id": "e7bea23e-c5c6-4eb6-a28b-b8308941d923",
     "isComponent": false,
     "name": "",
     "parents": []
    }
   },
   "outputs": [],
   "source": [
    "counter = {}\n",
    "\n",
    "for word in wor:\n",
    "    if not word in counter:\n",
    "        counter[word] = 1\n",
    "    elif word in counter:\n",
    "        counter[word] +=1"
   ]
  },
  {
   "cell_type": "code",
   "execution_count": null,
   "id": "90595ffe",
   "metadata": {
    "canvas": {
     "comments": [],
     "componentType": "CodeCell",
     "copiedOriginId": null,
     "diskcache": false,
     "headerColor": "transparent",
     "id": "0b86a2c8-6517-4054-bdbc-3307b68c3721",
     "isComponent": false,
     "name": "",
     "parents": []
    }
   },
   "outputs": [],
   "source": [
    "vio_df = bkp.counter_to_DataFrame(counter)\n",
    "vio_df = vio_df[vio_df['단어'].str.len() >= 2].reset_index(drop = True)"
   ]
  },
  {
   "cell_type": "code",
   "execution_count": null,
   "id": "25e08925",
   "metadata": {
    "canvas": {
     "comments": [],
     "componentType": "CodeCell",
     "copiedOriginId": null,
     "diskcache": false,
     "headerColor": "transparent",
     "id": "3d7025d7-2959-4cd7-a338-a499b843ef46",
     "isComponent": false,
     "name": "",
     "parents": []
    }
   },
   "outputs": [],
   "source": [
    "sns.barplot(data = vio_df, x = '빈도', y = '단어')"
   ]
  },
  {
   "cell_type": "markdown",
   "id": "babbdcac",
   "metadata": {
    "canvas": {
     "comments": [],
     "componentType": "CodeCell",
     "copiedOriginId": null,
     "diskcache": false,
     "headerColor": "transparent",
     "id": "9b8b8cec-4b23-44aa-ae19-e804920149ac",
     "isComponent": false,
     "name": "",
     "parents": []
    }
   },
   "source": [
    "## 제목 분석 with Bigram\n"
   ]
  },
  {
   "cell_type": "code",
   "execution_count": null,
   "id": "9f63ca5c",
   "metadata": {
    "canvas": {
     "comments": [],
     "componentType": "CodeCell",
     "copiedOriginId": null,
     "diskcache": false,
     "headerColor": "transparent",
     "id": "17990d11-4a12-4d6a-94a5-49607bd3f8ea",
     "isComponent": false,
     "name": "",
     "parents": []
    }
   },
   "outputs": [],
   "source": [
    "title = bkp.keywords_list(news_df['제목'])"
   ]
  },
  {
   "cell_type": "code",
   "execution_count": null,
   "id": "6f88d18c",
   "metadata": {
    "canvas": {
     "comments": [],
     "componentType": "CodeCell",
     "copiedOriginId": null,
     "diskcache": false,
     "headerColor": "transparent",
     "id": "0fd52ad0-6794-4e22-82fb-2cd9682cb65b",
     "isComponent": false,
     "name": "",
     "parents": []
    }
   },
   "outputs": [],
   "source": [
    "bot = []\n",
    "for i in range(len(title)):\n",
    "    word = okt.nouns(title[i])\n",
    "    bot.append(word)"
   ]
  },
  {
   "cell_type": "code",
   "execution_count": null,
   "id": "2203353d",
   "metadata": {
    "canvas": {
     "comments": [],
     "componentType": "CodeCell",
     "copiedOriginId": null,
     "diskcache": false,
     "headerColor": "transparent",
     "id": "ec1992dd-9cf6-4574-a1f6-5568e7e79915",
     "isComponent": false,
     "name": "",
     "parents": []
    }
   },
   "outputs": [],
   "source": [
    "wors = []\n",
    "\n",
    "for sentence in bot:\n",
    "    bigram = bigrams(sentence)\n",
    "    for t in bigram:\n",
    "        if t[0]== '인하대':\n",
    "            wors.append(t[1])\n",
    "        elif t[1] == '인하대':\n",
    "            wors.append(t[0])"
   ]
  },
  {
   "cell_type": "code",
   "execution_count": null,
   "id": "eec8a196",
   "metadata": {
    "canvas": {
     "comments": [],
     "componentType": "CodeCell",
     "copiedOriginId": null,
     "diskcache": false,
     "headerColor": "transparent",
     "id": "e15d5f05-a14f-4a80-b465-5eaa0b9659bf",
     "isComponent": false,
     "name": "",
     "parents": []
    }
   },
   "outputs": [],
   "source": [
    "counter = {}\n",
    "\n",
    "for word in wors:\n",
    "    if not word in counter:\n",
    "        counter[word] = 1\n",
    "    if word in counter:\n",
    "        counter[word] +=1\n",
    "        \n",
    "title_df = bkp.counter_to_DataFrame(counter)\n",
    "title_df = title_df[title_df['단어'].str.len() >= 2].reset_index(drop = True)"
   ]
  },
  {
   "cell_type": "code",
   "execution_count": null,
   "id": "f1d9250a",
   "metadata": {
    "canvas": {
     "comments": [],
     "componentType": "CodeCell",
     "copiedOriginId": null,
     "diskcache": false,
     "headerColor": "transparent",
     "id": "778f371e-e0b9-485c-af67-a30ed3140017",
     "isComponent": false,
     "name": "",
     "parents": []
    }
   },
   "outputs": [],
   "source": [
    "title_df = title_df.head(30)\n",
    "sns.barplot(data = title_df, x = '빈도', y = '단어')"
   ]
  },
  {
   "cell_type": "markdown",
   "id": "f04e57e8",
   "metadata": {
    "canvas": {
     "comments": [],
     "componentType": "CodeCell",
     "copiedOriginId": null,
     "diskcache": false,
     "headerColor": "transparent",
     "id": "a85c1ec7-4b93-49f2-9281-b972cf7a9cd8",
     "isComponent": false,
     "name": "",
     "parents": []
    }
   },
   "source": [
    "## 특정 단어 사용 고빈도 언론사 추출\n"
   ]
  },
  {
   "cell_type": "code",
   "execution_count": null,
   "id": "94678c53",
   "metadata": {
    "canvas": {
     "comments": [],
     "componentType": "CodeCell",
     "copiedOriginId": null,
     "diskcache": false,
     "headerColor": "transparent",
     "id": "6762e931-982b-45eb-8fb8-f6f519c17be9",
     "isComponent": false,
     "name": "",
     "parents": []
    }
   },
   "outputs": [],
   "source": [
    "news_df[news_df['제목'].str.contains('여대생')].groupby('언론사').size()"
   ]
  },
  {
   "cell_type": "code",
   "execution_count": null,
   "id": "8ad08974",
   "metadata": {
    "canvas": {
     "comments": [],
     "componentType": "CodeCell",
     "copiedOriginId": null,
     "diskcache": false,
     "headerColor": "transparent",
     "id": "ee3723a7-d608-4693-b33a-8fc56ba964cc",
     "isComponent": false,
     "name": "",
     "parents": []
    }
   },
   "outputs": [],
   "source": [
    "news_df[news_df['본문'].str.contains('여대생')].groupby('언론사').size()"
   ]
  },
  {
   "cell_type": "code",
   "execution_count": null,
   "id": "d3d8a574",
   "metadata": {
    "canvas": {
     "comments": [],
     "componentType": "CodeCell",
     "copiedOriginId": null,
     "diskcache": false,
     "headerColor": "transparent",
     "id": "767a315c-23f2-4902-b657-af17ed3c2692",
     "isComponent": false,
     "name": "",
     "parents": []
    }
   },
   "outputs": [],
   "source": [
    "news_df[news_df['제목'].str.contains('강간')].groupby('언론사').size()"
   ]
  },
  {
   "cell_type": "markdown",
   "id": "991e8050",
   "metadata": {
    "canvas": {
     "comments": [],
     "componentType": "CodeCell",
     "copiedOriginId": null,
     "diskcache": false,
     "headerColor": "transparent",
     "id": "9dfcf684-a5a9-4625-bd76-de0ab302fbe8",
     "isComponent": false,
     "name": "",
     "parents": []
    }
   },
   "source": [
    "## t-SNE\n"
   ]
  },
  {
   "cell_type": "code",
   "execution_count": null,
   "id": "3b213f32",
   "metadata": {
    "canvas": {
     "comments": [],
     "componentType": "CodeCell",
     "copiedOriginId": null,
     "diskcache": false,
     "headerColor": "transparent",
     "id": "a2036031-15ab-4e7e-a2cb-10e437268648",
     "isComponent": false,
     "name": "",
     "parents": []
    }
   },
   "outputs": [],
   "source": [
    "text = news_df['키워드']"
   ]
  },
  {
   "cell_type": "code",
   "execution_count": null,
   "id": "bf4787e2",
   "metadata": {
    "canvas": {
     "comments": [],
     "componentType": "CodeCell",
     "copiedOriginId": null,
     "diskcache": false,
     "headerColor": "transparent",
     "id": "64db0427-2209-4342-9a6f-db7908843d8d",
     "isComponent": false,
     "name": "",
     "parents": []
    }
   },
   "outputs": [],
   "source": [
    "from sklearn.feature_extraction.text import CountVectorizer, TfidfTransformer\n",
    "from sklearn.pipeline import Pipeline\n",
    "\n",
    "pipeline = Pipeline([\n",
    "    ('vect', CountVectorizer()),\n",
    "    ('tfidf', TfidfTransformer()),\n",
    "])        \n",
    "vec = pipeline.fit_transform(text).toarray()"
   ]
  },
  {
   "cell_type": "code",
   "execution_count": null,
   "id": "2ff98baf",
   "metadata": {
    "canvas": {
     "comments": [],
     "componentType": "CodeCell",
     "copiedOriginId": null,
     "diskcache": false,
     "headerColor": "transparent",
     "id": "bff6672b-dcc0-4322-99da-958cc37e4517",
     "isComponent": false,
     "name": "",
     "parents": []
    }
   },
   "outputs": [],
   "source": [
    "from sklearn.preprocessing import Normalizer\n",
    "\n",
    "nor = Normalizer()\n",
    "norvec = nor.fit_transform(vec)"
   ]
  },
  {
   "cell_type": "code",
   "execution_count": null,
   "id": "027e697c",
   "metadata": {
    "canvas": {
     "comments": [],
     "componentType": "CodeCell",
     "copiedOriginId": null,
     "diskcache": false,
     "headerColor": "transparent",
     "id": "f01ba34a-5881-4713-9f3d-3cad75dcf716",
     "isComponent": false,
     "name": "",
     "parents": []
    }
   },
   "outputs": [],
   "source": [
    "from sklearn.manifold import TSNE\n",
    "\n",
    "tsne = TSNE(n_components=2, learning_rate=400).fit_transform(norvec)\n",
    "\n",
    "tsne_df = pd.DataFrame(tsne, columns = ['component 0', 'component 1'])"
   ]
  },
  {
   "cell_type": "code",
   "execution_count": null,
   "id": "640bc770",
   "metadata": {
    "canvas": {
     "comments": [],
     "componentType": "CodeCell",
     "copiedOriginId": null,
     "diskcache": false,
     "headerColor": "transparent",
     "id": "e83197f8-2b59-4bdc-bf99-960e17106965",
     "isComponent": false,
     "name": "",
     "parents": []
    }
   },
   "outputs": [],
   "source": [
    "plt.scatter(tsne_df['component 0'], tsne_df['component 1'], color = 'orange')\n",
    "\n",
    "plt.xlabel('component 0')\n",
    "plt.ylabel('component 1')\n",
    "plt.legend()\n",
    "plt.show()"
   ]
  },
  {
   "cell_type": "markdown",
   "id": "4a729115",
   "metadata": {
    "canvas": {
     "comments": [],
     "componentType": "CodeCell",
     "copiedOriginId": null,
     "diskcache": false,
     "headerColor": "transparent",
     "id": "b1216626-8c74-4daf-8087-b6d89f59485f",
     "isComponent": false,
     "name": "",
     "parents": []
    }
   },
   "source": [
    "문서 간 밀접 여부 파악이 어려움\n",
    "\n",
    "Clustering의 정확도가 낮을 것으로 예상\n",
    "\n",
    "# Topic Modeling\n"
   ]
  },
  {
   "cell_type": "code",
   "execution_count": null,
   "id": "55f6fb88",
   "metadata": {
    "canvas": {
     "comments": [],
     "componentType": "CodeCell",
     "copiedOriginId": null,
     "diskcache": false,
     "headerColor": "transparent",
     "id": "2a3f6c50-a7be-4385-87fd-e9060b11bff7",
     "isComponent": false,
     "name": "",
     "parents": []
    }
   },
   "outputs": [],
   "source": [
    "news_words = bkp.keyword_parser(news_df['키워드'])"
   ]
  },
  {
   "cell_type": "code",
   "execution_count": null,
   "id": "a35c0b5f",
   "metadata": {
    "canvas": {
     "comments": [],
     "componentType": "CodeCell",
     "copiedOriginId": null,
     "diskcache": false,
     "headerColor": "transparent",
     "id": "6f399e50-fef4-405f-a573-06513a730176",
     "isComponent": false,
     "name": "",
     "parents": []
    }
   },
   "outputs": [],
   "source": [
    "import gensim\n",
    "news_dict = gensim.corpora.Dictionary(news_words)\n",
    "corpus = [news_dict.doc2bow(text) for text in news_words]"
   ]
  },
  {
   "cell_type": "code",
   "execution_count": null,
   "id": "48d98445",
   "metadata": {
    "canvas": {
     "comments": [],
     "componentType": "CodeCell",
     "copiedOriginId": null,
     "diskcache": false,
     "headerColor": "transparent",
     "id": "4ea9f8bb-b8dd-4eb2-8e57-3711d4e5c14e",
     "isComponent": false,
     "name": "",
     "parents": []
    }
   },
   "outputs": [],
   "source": [
    "coherence = []\n",
    "for i in range(2,20):\n",
    "    ldamodel = gensim.models.ldamodel.LdaModel(corpus, num_topics = i, id2word=news_dict, passes=20, iterations=100)\n",
    "    coherence_mo_lda = gensim.models.CoherenceModel(model = ldamodel, texts = news_words, dictionary = news_dict) \n",
    "    coherence_lda = coherence_mo_lda.get_coherence()\n",
    "    coherence.append(coherence_lda)"
   ]
  },
  {
   "cell_type": "code",
   "execution_count": null,
   "id": "29f78a71",
   "metadata": {
    "canvas": {
     "comments": [],
     "componentType": "CodeCell",
     "copiedOriginId": null,
     "diskcache": false,
     "headerColor": "transparent",
     "id": "bec6e7cd-6ae9-457d-a292-0b28bebfd4ef",
     "isComponent": false,
     "name": "",
     "parents": []
    }
   },
   "outputs": [],
   "source": [
    "x = range(2,20)\n",
    "plt.plot(x,coherence)\n",
    "plt.xlabel(\"토픽 개수\")\n",
    "plt.ylabel(\"coherence\")\n",
    "plt.show()"
   ]
  },
  {
   "cell_type": "markdown",
   "id": "ebc19685",
   "metadata": {
    "canvas": {
     "comments": [],
     "componentType": "CodeCell",
     "copiedOriginId": null,
     "diskcache": false,
     "headerColor": "transparent",
     "id": "530c5db4-64fb-4206-b5fe-b9ac183c69d9",
     "isComponent": false,
     "name": "",
     "parents": []
    }
   },
   "source": [
    "최적 Topic 갯수는 2개로 나타남\n",
    "\n",
    "그러나 분석을 위해 2번째로 높은 값인 4개를 하이퍼파라미터로 지정\n"
   ]
  },
  {
   "cell_type": "code",
   "execution_count": null,
   "id": "333e495f",
   "metadata": {
    "canvas": {
     "comments": [],
     "componentType": "CodeCell",
     "copiedOriginId": null,
     "diskcache": false,
     "headerColor": "transparent",
     "id": "3d4f2e47-9185-4396-ad0f-ab0d8af985aa",
     "isComponent": false,
     "name": "",
     "parents": []
    }
   },
   "outputs": [],
   "source": [
    "NUM_TOPICS = 4\n",
    "ldamodel = gensim.models.ldamodel.LdaModel(corpus, num_topics = NUM_TOPICS, id2word=news_dict, passes=20, iterations=100, random_state=10)\n",
    "topics = ldamodel.print_topics(num_words=8)\n",
    "for topic in topics:\n",
    "    print(topic)"
   ]
  },
  {
   "cell_type": "code",
   "execution_count": null,
   "id": "087fa525",
   "metadata": {
    "canvas": {
     "comments": [],
     "componentType": "CodeCell",
     "copiedOriginId": null,
     "diskcache": false,
     "headerColor": "transparent",
     "id": "e48e1b90-54c3-4ab3-9112-3aedcbabb7c9",
     "isComponent": false,
     "name": "",
     "parents": []
    }
   },
   "outputs": [],
   "source": [
    "def make_topictable(ldamodel, corpus):\n",
    "    topic_table = pd.DataFrame()\n",
    "\n",
    "    for i, topic_list in enumerate(ldamodel[corpus]):\n",
    "        doc = topic_list[0] if ldamodel.per_word_topics else topic_list            \n",
    "        doc = sorted(doc, key=lambda x: (x[1]), reverse=True)\n",
    "\n",
    "        for j, (topic_num, prop_topic) in enumerate(doc):\n",
    "            if j == 0: \n",
    "                topic_table = topic_table.append(pd.Series([int(topic_num), round(prop_topic,4), topic_list]), ignore_index=True)\n",
    "            else:\n",
    "                break\n",
    "    return(topic_table)"
   ]
  },
  {
   "cell_type": "code",
   "execution_count": null,
   "id": "a187aeb3",
   "metadata": {
    "canvas": {
     "comments": [],
     "componentType": "CodeCell",
     "copiedOriginId": null,
     "diskcache": false,
     "headerColor": "transparent",
     "id": "f41e617d-6643-4534-8db3-0523d262e86e",
     "isComponent": false,
     "name": "",
     "parents": []
    }
   },
   "outputs": [],
   "source": [
    "topictable = make_topictable(ldamodel, corpus)\n",
    "topictable = topictable.reset_index() "
   ]
  },
  {
   "cell_type": "code",
   "execution_count": null,
   "id": "181d737b",
   "metadata": {
    "canvas": {
     "comments": [],
     "componentType": "CodeCell",
     "copiedOriginId": null,
     "diskcache": false,
     "headerColor": "transparent",
     "id": "75f739b5-319d-4bcf-a9b9-a82b4ea77246",
     "isComponent": false,
     "name": "",
     "parents": []
    }
   },
   "outputs": [],
   "source": [
    "topictable.columns = ['뉴스 번호', '주요 토픽', '주요 토픽 비중', '토픽 별 비중']\n",
    "topictable.head(20)"
   ]
  },
  {
   "cell_type": "code",
   "execution_count": null,
   "id": "de388ec0",
   "metadata": {
    "canvas": {
     "comments": [],
     "componentType": "CodeCell",
     "copiedOriginId": null,
     "diskcache": false,
     "headerColor": "transparent",
     "id": "0f8a5c6f-3310-4430-a2ba-c568aa0d0f9d",
     "isComponent": false,
     "name": "",
     "parents": []
    }
   },
   "outputs": [],
   "source": [
    "inha_topic_df = pd.concat([news_df[['제목', '언론사', '키워드']], topictable['주요 토픽']], axis = 1)"
   ]
  },
  {
   "cell_type": "code",
   "execution_count": null,
   "id": "64cb9f9e",
   "metadata": {
    "canvas": {
     "comments": [],
     "componentType": "CodeCell",
     "copiedOriginId": null,
     "diskcache": false,
     "headerColor": "transparent",
     "id": "d67efd87-77c7-481c-a95e-c4695e2bf962",
     "isComponent": false,
     "name": "",
     "parents": []
    }
   },
   "outputs": [],
   "source": [
    "inha_topic_df.groupby('주요 토픽').size()"
   ]
  },
  {
   "cell_type": "code",
   "execution_count": null,
   "id": "58055707",
   "metadata": {
    "canvas": {
     "comments": [],
     "componentType": "CodeCell",
     "copiedOriginId": null,
     "diskcache": false,
     "headerColor": "transparent",
     "id": "bced74b4-2df0-4117-945f-be9d9ebb015d",
     "isComponent": false,
     "name": "",
     "parents": []
    }
   },
   "outputs": [],
   "source": [
    "inha_topic_df[inha_topic_df['주요 토픽'] == 0].head(30) #관련 없는 기사 다수"
   ]
  },
  {
   "cell_type": "code",
   "execution_count": null,
   "id": "ff7d8c38",
   "metadata": {
    "canvas": {
     "comments": [],
     "componentType": "CodeCell",
     "copiedOriginId": null,
     "diskcache": false,
     "headerColor": "transparent",
     "id": "ca5e4a94-c718-4d60-af0c-79b011f58385",
     "isComponent": false,
     "name": "",
     "parents": []
    }
   },
   "outputs": [],
   "source": [
    "inha_topic_df[inha_topic_df['주요 토픽'] == 1].head(30) #또한 관련 없는 기사"
   ]
  },
  {
   "cell_type": "code",
   "execution_count": null,
   "id": "ddccc8d7",
   "metadata": {
    "canvas": {
     "comments": [],
     "componentType": "CodeCell",
     "copiedOriginId": null,
     "diskcache": false,
     "headerColor": "transparent",
     "id": "eebacb36-e9f9-4758-8f19-42a715ed8db9",
     "isComponent": false,
     "name": "",
     "parents": []
    }
   },
   "outputs": [],
   "source": [
    "inha_topic_df[inha_topic_df['주요 토픽'] == 2].head(30) #인하대학교 사건 기사가 다수"
   ]
  },
  {
   "cell_type": "code",
   "execution_count": null,
   "id": "a709f3ca",
   "metadata": {
    "canvas": {
     "comments": [],
     "componentType": "CodeCell",
     "copiedOriginId": null,
     "diskcache": false,
     "headerColor": "transparent",
     "id": "1e7cadfa-c2f1-444d-976a-14c87a7ae312",
     "isComponent": false,
     "name": "",
     "parents": []
    }
   },
   "outputs": [],
   "source": [
    "inha_topic_df[inha_topic_df['주요 토픽'] == 3].head(30) #또한 관련도가 매우 낮은 기사"
   ]
  },
  {
   "cell_type": "markdown",
   "id": "31312239",
   "metadata": {
    "canvas": {
     "comments": [],
     "componentType": "CodeCell",
     "copiedOriginId": null,
     "diskcache": false,
     "headerColor": "transparent",
     "id": "bc0e99d2-e60d-48ae-9e78-c36f3b415289",
     "isComponent": false,
     "name": "",
     "parents": []
    }
   },
   "source": [
    "LDA의 주제 분류가 다소 깔끔하지 않음을 보임\n",
    "\n",
    "다른 모델을 사용해볼 필요가 있음\n",
    "\n",
    "# K-means Clustering\n"
   ]
  },
  {
   "cell_type": "code",
   "execution_count": null,
   "id": "17410c7d",
   "metadata": {
    "canvas": {
     "comments": [],
     "componentType": "CodeCell",
     "copiedOriginId": null,
     "diskcache": false,
     "headerColor": "transparent",
     "id": "506fda84-b83d-4aba-bcb6-be8465a18a66",
     "isComponent": false,
     "name": "",
     "parents": []
    }
   },
   "outputs": [],
   "source": [
    "from sklearn.cluster import KMeans\n",
    "from yellowbrick.cluster import KElbowVisualizer\n",
    "\n",
    "vzr = KElbowVisualizer(KMeans(max_iter=1000, random_state=10), k=(2, 20))\n",
    "vzr.fit(norvec)\n",
    "vzr.poof()"
   ]
  },
  {
   "cell_type": "code",
   "execution_count": null,
   "id": "fa6391d3",
   "metadata": {
    "canvas": {
     "comments": [],
     "componentType": "CodeCell",
     "copiedOriginId": null,
     "diskcache": false,
     "headerColor": "transparent",
     "id": "11e2ce70-a64b-4dc0-9dfd-129c7df09d6c",
     "isComponent": false,
     "name": "",
     "parents": []
    }
   },
   "outputs": [],
   "source": [
    "from yellowbrick.cluster import SilhouetteVisualizer\n",
    "\n",
    "kmeans= KMeans(n_clusters=12, max_iter=1000, random_state=10) #최적 Topic 개수 12개를 기점으로 진행\n",
    "visualizer = SilhouetteVisualizer(kmeans, colors='yellowbrick')"
   ]
  },
  {
   "cell_type": "code",
   "execution_count": null,
   "id": "14373f9f",
   "metadata": {
    "canvas": {
     "comments": [],
     "componentType": "CodeCell",
     "copiedOriginId": null,
     "diskcache": false,
     "headerColor": "transparent",
     "id": "0a6ed7e3-b913-477f-aad8-463fe451b7b2",
     "isComponent": false,
     "name": "",
     "parents": []
    }
   },
   "outputs": [],
   "source": [
    "visualizer.fit(norvec)\n",
    "visualizer.show()"
   ]
  },
  {
   "cell_type": "code",
   "execution_count": null,
   "id": "df35a660",
   "metadata": {
    "canvas": {
     "comments": [],
     "componentType": "CodeCell",
     "copiedOriginId": null,
     "diskcache": false,
     "headerColor": "transparent",
     "id": "a2d3ba1b-510c-440a-8b60-e5cb04f1a86f",
     "isComponent": false,
     "name": "",
     "parents": []
    }
   },
   "outputs": [],
   "source": [
    "topic_df = news_df[['언론사', '제목', '키워드']]"
   ]
  },
  {
   "cell_type": "code",
   "execution_count": null,
   "id": "4ab9894e",
   "metadata": {
    "canvas": {
     "comments": [],
     "componentType": "CodeCell",
     "copiedOriginId": null,
     "diskcache": false,
     "headerColor": "transparent",
     "id": "624b3343-b298-4c67-8212-019352021308",
     "isComponent": false,
     "name": "",
     "parents": []
    }
   },
   "outputs": [],
   "source": [
    "kmeans.fit(norvec)\n",
    "\n",
    "labels = kmeans.labels_\n",
    "\n",
    "topic_df['군집'] = labels"
   ]
  },
  {
   "cell_type": "code",
   "execution_count": null,
   "id": "8ef25fa7",
   "metadata": {
    "canvas": {
     "comments": [],
     "componentType": "CodeCell",
     "copiedOriginId": null,
     "diskcache": false,
     "headerColor": "transparent",
     "id": "47b89117-6d6e-4b7b-aa2e-f322815b5bc0",
     "isComponent": false,
     "name": "",
     "parents": []
    }
   },
   "outputs": [],
   "source": [
    "topic_df.groupby('군집').size()"
   ]
  },
  {
   "cell_type": "code",
   "execution_count": null,
   "id": "be61070f",
   "metadata": {
    "canvas": {
     "comments": [],
     "componentType": "CodeCell",
     "copiedOriginId": null,
     "diskcache": false,
     "headerColor": "transparent",
     "id": "30d9d33a-5237-4189-86b6-52357d7b83ac",
     "isComponent": false,
     "name": "",
     "parents": []
    }
   },
   "outputs": [],
   "source": [
    "topic_df.loc[topic_df['군집']==0, '군집'] = '경제'\n",
    "topic_df.loc[topic_df['군집']==1, '군집'] = '리멤버 0715'\n",
    "topic_df.loc[topic_df['군집']==2, '군집'] = '인하대 사건 그 이후'\n",
    "topic_df.loc[topic_df['군집']==3, '군집'] = '인하대 입시'\n",
    "topic_df.loc[topic_df['군집']==4, '군집'] = '인하대 사건 조사보도'\n",
    "topic_df.loc[topic_df['군집']==5, '군집'] = '가해자 재판'\n",
    "topic_df.loc[topic_df['군집']==6, '군집'] = '젠더 이슈'\n",
    "topic_df.loc[topic_df['군집']==7, '군집'] = '가해자 체포'\n",
    "topic_df.loc[topic_df['군집']==8, '군집'] = '관련 없는 기사'\n",
    "topic_df.loc[topic_df['군집']==9, '군집'] = '학교 측 가해자 징계'\n",
    "topic_df.loc[topic_df['군집']==10, '군집'] = '인하대 총장'\n",
    "topic_df.loc[topic_df['군집']==11, '군집'] = '부고'"
   ]
  },
  {
   "cell_type": "markdown",
   "id": "b40bc93f",
   "metadata": {
    "canvas": {
     "comments": [],
     "componentType": "CodeCell",
     "copiedOriginId": null,
     "diskcache": false,
     "headerColor": "transparent",
     "id": "fb8555eb-7847-4cf6-811d-2c933b4c7ee1",
     "isComponent": false,
     "name": "",
     "parents": []
    }
   },
   "source": [
    "분석 결과, K-Means가 가장 Performance가 가장 좋았음\n"
   ]
  },
  {
   "cell_type": "code",
   "execution_count": null,
   "id": "e037d226",
   "metadata": {
    "canvas": {
     "comments": [],
     "componentType": "CodeCell",
     "copiedOriginId": null,
     "diskcache": false,
     "headerColor": "transparent",
     "id": "c8b50e51-4bde-4231-ba2a-0a62229f7302",
     "isComponent": false,
     "name": "",
     "parents": []
    }
   },
   "outputs": [],
   "source": [
    "filter_list = ['경제', '인하대 입시', '관련 없는 기사', '인하대 총장', '부고']\n",
    "inha_df = topic_df[~topic_df['군집'].isin(filter_list)]\n",
    "inha_df.reset_index(drop = True, inplace = True)"
   ]
  },
  {
   "cell_type": "code",
   "execution_count": null,
   "id": "2336976a",
   "metadata": {
    "canvas": {
     "comments": [],
     "componentType": "CodeCell",
     "copiedOriginId": null,
     "diskcache": false,
     "headerColor": "transparent",
     "id": "fc6a3d8c-1492-4992-aaf8-f3e2d022387e",
     "isComponent": false,
     "name": "",
     "parents": []
    }
   },
   "outputs": [],
   "source": [
    "inha_df.to_excel('./inha_topic.xlsx', index=False)"
   ]
  },
  {
   "cell_type": "markdown",
   "id": "b52bb656",
   "metadata": {
    "canvas": {
     "comments": [],
     "componentType": "CodeCell",
     "copiedOriginId": null,
     "diskcache": false,
     "headerColor": "transparent",
     "id": "945833ff-24ed-48bf-b987-091363de92b5",
     "isComponent": false,
     "name": "",
     "parents": []
    }
   },
   "source": [
    "나머지 내용은 R을 이용하여 분석 진행\n",
    "\n",
    "분석 결과를 Quarto 기반 보고서로 제작 예정\n"
   ]
  }
 ],
 "metadata": {
  "canvas": {
   "colorPalette": [
    "inherit",
    "inherit",
    "inherit",
    "inherit",
    "inherit",
    "inherit",
    "inherit",
    "inherit",
    "inherit",
    "inherit"
   ],
   "parameters": [],
   "version": "1.0"
  },
  "kernelspec": {
   "display_name": "Python 3 (ipykernel)",
   "language": "python",
   "name": "python3"
  },
  "language_info": {
   "codemirror_mode": {
    "name": "ipython",
    "version": 3
   },
   "file_extension": ".py",
   "mimetype": "text/x-python",
   "name": "python",
   "nbconvert_exporter": "python",
   "pygments_lexer": "ipython3",
   "version": "3.10.11"
  }
 },
 "nbformat": 4,
 "nbformat_minor": 5
}
